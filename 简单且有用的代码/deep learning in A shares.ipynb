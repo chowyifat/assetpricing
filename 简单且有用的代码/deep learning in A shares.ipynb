{
 "cells": [
  {
   "cell_type": "code",
   "execution_count": 2,
   "id": "78df2221",
   "metadata": {
    "scrolled": false
   },
   "outputs": [],
   "source": [
    "import pandas as pd\n",
    "import numpy as np\n",
    "import torch\n",
    "from numba import jit"
   ]
  },
  {
   "cell_type": "code",
   "execution_count": 4,
   "id": "afb470b4",
   "metadata": {},
   "outputs": [],
   "source": [
    "stock=pd.read_csv('weekly_stock.csv',low_memory=False)"
   ]
  },
  {
   "cell_type": "code",
   "execution_count": 6,
   "id": "08d62906",
   "metadata": {},
   "outputs": [
    {
     "data": {
      "text/html": [
       "<div>\n",
       "<style scoped>\n",
       "    .dataframe tbody tr th:only-of-type {\n",
       "        vertical-align: middle;\n",
       "    }\n",
       "\n",
       "    .dataframe tbody tr th {\n",
       "        vertical-align: top;\n",
       "    }\n",
       "\n",
       "    .dataframe thead th {\n",
       "        text-align: right;\n",
       "    }\n",
       "</style>\n",
       "<table border=\"1\" class=\"dataframe\">\n",
       "  <thead>\n",
       "    <tr style=\"text-align: right;\">\n",
       "      <th></th>\n",
       "      <th>code</th>\n",
       "      <th>name</th>\n",
       "      <th>time</th>\n",
       "      <th>mv</th>\n",
       "      <th>pb</th>\n",
       "      <th>return</th>\n",
       "      <th>volume</th>\n",
       "    </tr>\n",
       "  </thead>\n",
       "  <tbody>\n",
       "    <tr>\n",
       "      <th>0</th>\n",
       "      <td>000001.SZ</td>\n",
       "      <td>平安银行</td>\n",
       "      <td>2006-01-06</td>\n",
       "      <td>1.247272e+10</td>\n",
       "      <td>2.4871</td>\n",
       "      <td>0.043974</td>\n",
       "      <td>54697053.0</td>\n",
       "    </tr>\n",
       "    <tr>\n",
       "      <th>1</th>\n",
       "      <td>000001.SZ</td>\n",
       "      <td>平安银行</td>\n",
       "      <td>2006-01-13</td>\n",
       "      <td>1.208356e+10</td>\n",
       "      <td>2.4095</td>\n",
       "      <td>-0.031201</td>\n",
       "      <td>56915328.0</td>\n",
       "    </tr>\n",
       "    <tr>\n",
       "      <th>2</th>\n",
       "      <td>000001.SZ</td>\n",
       "      <td>平安银行</td>\n",
       "      <td>2006-01-20</td>\n",
       "      <td>1.212247e+10</td>\n",
       "      <td>2.4173</td>\n",
       "      <td>0.003221</td>\n",
       "      <td>36125086.0</td>\n",
       "    </tr>\n",
       "    <tr>\n",
       "      <th>3</th>\n",
       "      <td>000001.SZ</td>\n",
       "      <td>平安银行</td>\n",
       "      <td>2006-01-25</td>\n",
       "      <td>1.235597e+10</td>\n",
       "      <td>2.4638</td>\n",
       "      <td>0.019262</td>\n",
       "      <td>27011132.0</td>\n",
       "    </tr>\n",
       "    <tr>\n",
       "      <th>4</th>\n",
       "      <td>000001.SZ</td>\n",
       "      <td>平安银行</td>\n",
       "      <td>2006-02-10</td>\n",
       "      <td>1.208356e+10</td>\n",
       "      <td>2.4095</td>\n",
       "      <td>-0.022047</td>\n",
       "      <td>43678212.0</td>\n",
       "    </tr>\n",
       "  </tbody>\n",
       "</table>\n",
       "</div>"
      ],
      "text/plain": [
       "        code  name        time            mv      pb    return      volume\n",
       "0  000001.SZ  平安银行  2006-01-06  1.247272e+10  2.4871  0.043974  54697053.0\n",
       "1  000001.SZ  平安银行  2006-01-13  1.208356e+10  2.4095 -0.031201  56915328.0\n",
       "2  000001.SZ  平安银行  2006-01-20  1.212247e+10  2.4173  0.003221  36125086.0\n",
       "3  000001.SZ  平安银行  2006-01-25  1.235597e+10  2.4638  0.019262  27011132.0\n",
       "4  000001.SZ  平安银行  2006-02-10  1.208356e+10  2.4095 -0.022047  43678212.0"
      ]
     },
     "execution_count": 6,
     "metadata": {},
     "output_type": "execute_result"
    }
   ],
   "source": [
    "stock.head()"
   ]
  },
  {
   "cell_type": "code",
   "execution_count": 8,
   "id": "d8ee152c",
   "metadata": {
    "scrolled": false
   },
   "outputs": [],
   "source": [
    "stock[['return','pb']]=stock[['return','pb']].apply(pd.to_numeric,errors='coerce')\n",
    "stock['return']=stock['return']*0.01\n",
    "stock.sort_values(['code','time'],inplace=True)"
   ]
  },
  {
   "cell_type": "code",
   "execution_count": 9,
   "id": "80d4d734",
   "metadata": {},
   "outputs": [
    {
     "name": "stdout",
     "output_type": "stream",
     "text": [
      "<class 'pandas.core.frame.DataFrame'>\n",
      "Int64Index: 2042460 entries, 0 to 2042459\n",
      "Data columns (total 7 columns):\n",
      " #   Column  Dtype  \n",
      "---  ------  -----  \n",
      " 0   code    object \n",
      " 1   name    object \n",
      " 2   time    object \n",
      " 3   mv      float64\n",
      " 4   pb      float64\n",
      " 5   return  float64\n",
      " 6   volume  float64\n",
      "dtypes: float64(4), object(3)\n",
      "memory usage: 124.7+ MB\n"
     ]
    }
   ],
   "source": [
    "stock.info()"
   ]
  },
  {
   "cell_type": "code",
   "execution_count": 24,
   "id": "cc9fb50c",
   "metadata": {},
   "outputs": [],
   "source": [
    "# lag一期\n",
    "shift=[]\n",
    "for i,data in stock.groupby('code'):\n",
    "    shift.append(data.loc[:,['mv','pb','return','volume']].shift(1))\n",
    "shift=pd.concat(shift,axis=0)\n",
    "old=stock.loc[:,'code':'time']\n",
    "stock_new=pd.concat([old,shift],axis=1)\n",
    "\n",
    "stock_new.dropna(how='any',inplace=True)"
   ]
  },
  {
   "cell_type": "code",
   "execution_count": 25,
   "id": "c11effd5",
   "metadata": {},
   "outputs": [],
   "source": [
    "stock_new['bm']=1/stock_new['pb']\n",
    "stock_new.drop(columns='pb',inplace=True)"
   ]
  },
  {
   "cell_type": "code",
   "execution_count": 26,
   "id": "55ef9b82",
   "metadata": {},
   "outputs": [],
   "source": [
    "stock_new.reset_index(drop=True,inplace=True)"
   ]
  },
  {
   "cell_type": "code",
   "execution_count": 27,
   "id": "748afac0",
   "metadata": {},
   "outputs": [],
   "source": [
    "# 因子排序打分\n",
    "def factor_rank(stock,group_by_name,factor_name,factor_rank_name):\n",
    "    factor=[]\n",
    "    for i,data in stock.groupby(group_by_name):\n",
    "        data[factor_rank_name]=data[factor_name].rank(pct=True)\n",
    "        factor.append(data[factor_rank_name])\n",
    "    factor=pd.concat(factor,axis=0)\n",
    "    stock=pd.concat([stock_new,factor],axis=1)\n",
    "    return stock"
   ]
  },
  {
   "cell_type": "code",
   "execution_count": 28,
   "id": "2f685a4d",
   "metadata": {},
   "outputs": [],
   "source": [
    "stock_new=factor_rank(stock_new,'time','mv','mv_rank')\n",
    "stock_new=factor_rank(stock_new,'time','return','return_rank')\n",
    "stock_new=factor_rank(stock_new,'time','bm','bm_rank')"
   ]
  },
  {
   "cell_type": "code",
   "execution_count": 29,
   "id": "0b42a14b",
   "metadata": {},
   "outputs": [
    {
     "data": {
      "text/html": [
       "<div>\n",
       "<style scoped>\n",
       "    .dataframe tbody tr th:only-of-type {\n",
       "        vertical-align: middle;\n",
       "    }\n",
       "\n",
       "    .dataframe tbody tr th {\n",
       "        vertical-align: top;\n",
       "    }\n",
       "\n",
       "    .dataframe thead th {\n",
       "        text-align: right;\n",
       "    }\n",
       "</style>\n",
       "<table border=\"1\" class=\"dataframe\">\n",
       "  <thead>\n",
       "    <tr style=\"text-align: right;\">\n",
       "      <th></th>\n",
       "      <th>code</th>\n",
       "      <th>name</th>\n",
       "      <th>time</th>\n",
       "      <th>mv</th>\n",
       "      <th>return</th>\n",
       "      <th>volume</th>\n",
       "      <th>bm</th>\n",
       "      <th>mv_rank</th>\n",
       "      <th>return_rank</th>\n",
       "      <th>bm_rank</th>\n",
       "    </tr>\n",
       "  </thead>\n",
       "  <tbody>\n",
       "    <tr>\n",
       "      <th>0</th>\n",
       "      <td>000001.SZ</td>\n",
       "      <td>平安银行</td>\n",
       "      <td>2006-01-13</td>\n",
       "      <td>1.247272e+10</td>\n",
       "      <td>0.043974</td>\n",
       "      <td>54697053.0</td>\n",
       "      <td>0.402075</td>\n",
       "      <td>0.972532</td>\n",
       "      <td>0.654936</td>\n",
       "      <td>0.231760</td>\n",
       "    </tr>\n",
       "    <tr>\n",
       "      <th>1</th>\n",
       "      <td>000001.SZ</td>\n",
       "      <td>平安银行</td>\n",
       "      <td>2006-01-20</td>\n",
       "      <td>1.208356e+10</td>\n",
       "      <td>-0.031201</td>\n",
       "      <td>56915328.0</td>\n",
       "      <td>0.415024</td>\n",
       "      <td>0.972950</td>\n",
       "      <td>0.032122</td>\n",
       "      <td>0.247675</td>\n",
       "    </tr>\n",
       "    <tr>\n",
       "      <th>2</th>\n",
       "      <td>000001.SZ</td>\n",
       "      <td>平安银行</td>\n",
       "      <td>2006-01-25</td>\n",
       "      <td>1.212247e+10</td>\n",
       "      <td>0.003221</td>\n",
       "      <td>36125086.0</td>\n",
       "      <td>0.413685</td>\n",
       "      <td>0.976232</td>\n",
       "      <td>0.430458</td>\n",
       "      <td>0.257923</td>\n",
       "    </tr>\n",
       "    <tr>\n",
       "      <th>3</th>\n",
       "      <td>000001.SZ</td>\n",
       "      <td>平安银行</td>\n",
       "      <td>2006-02-10</td>\n",
       "      <td>1.235597e+10</td>\n",
       "      <td>0.019262</td>\n",
       "      <td>27011132.0</td>\n",
       "      <td>0.405877</td>\n",
       "      <td>0.974569</td>\n",
       "      <td>0.730245</td>\n",
       "      <td>0.248865</td>\n",
       "    </tr>\n",
       "    <tr>\n",
       "      <th>4</th>\n",
       "      <td>000001.SZ</td>\n",
       "      <td>平安银行</td>\n",
       "      <td>2006-02-17</td>\n",
       "      <td>1.208356e+10</td>\n",
       "      <td>-0.022047</td>\n",
       "      <td>43678212.0</td>\n",
       "      <td>0.415024</td>\n",
       "      <td>0.972003</td>\n",
       "      <td>0.090989</td>\n",
       "      <td>0.270341</td>\n",
       "    </tr>\n",
       "  </tbody>\n",
       "</table>\n",
       "</div>"
      ],
      "text/plain": [
       "        code  name        time            mv    return      volume        bm  \\\n",
       "0  000001.SZ  平安银行  2006-01-13  1.247272e+10  0.043974  54697053.0  0.402075   \n",
       "1  000001.SZ  平安银行  2006-01-20  1.208356e+10 -0.031201  56915328.0  0.415024   \n",
       "2  000001.SZ  平安银行  2006-01-25  1.212247e+10  0.003221  36125086.0  0.413685   \n",
       "3  000001.SZ  平安银行  2006-02-10  1.235597e+10  0.019262  27011132.0  0.405877   \n",
       "4  000001.SZ  平安银行  2006-02-17  1.208356e+10 -0.022047  43678212.0  0.415024   \n",
       "\n",
       "    mv_rank  return_rank   bm_rank  \n",
       "0  0.972532     0.654936  0.231760  \n",
       "1  0.972950     0.032122  0.247675  \n",
       "2  0.976232     0.430458  0.257923  \n",
       "3  0.974569     0.730245  0.248865  \n",
       "4  0.972003     0.090989  0.270341  "
      ]
     },
     "execution_count": 29,
     "metadata": {},
     "output_type": "execute_result"
    }
   ],
   "source": [
    "stock_new.head()"
   ]
  },
  {
   "cell_type": "code",
   "execution_count": 30,
   "id": "95770393",
   "metadata": {},
   "outputs": [],
   "source": [
    "stock_new['score']=0.3*stock_new['mv_rank']+0.2*stock_new['return_rank']+0.5*stock_new['bm_rank']"
   ]
  },
  {
   "cell_type": "code",
   "execution_count": 31,
   "id": "a1d5df2e",
   "metadata": {},
   "outputs": [],
   "source": [
    "# 筛选前100\n",
    "stock=[]\n",
    "for i,data in stock_new.groupby('time'):\n",
    "    data=data.sort_values('score').iloc[0:100,:]\n",
    "    stock.append(data)\n",
    "stock=pd.concat(stock,axis=0)"
   ]
  },
  {
   "cell_type": "code",
   "execution_count": 32,
   "id": "69e3d5e3",
   "metadata": {},
   "outputs": [],
   "source": [
    "stock_new=[]\n",
    "for i,data in stock.groupby('time'):\n",
    "    data['weekly_return']=1/100*data['return']\n",
    "    stock_new.append(data)\n",
    "stock_new=pd.concat(stock_new,axis=0)"
   ]
  },
  {
   "cell_type": "code",
   "execution_count": 33,
   "id": "ac7547ee",
   "metadata": {
    "scrolled": true
   },
   "outputs": [
    {
     "data": {
      "text/plain": [
       "time\n",
       "2006-01-13    0.018009\n",
       "2006-01-20    0.017061\n",
       "2006-01-25   -0.008748\n",
       "2006-02-10   -0.064638\n",
       "2006-02-17    0.025261\n",
       "                ...   \n",
       "2021-09-24   -0.066916\n",
       "2021-09-30   -0.048155\n",
       "2021-10-08   -0.074438\n",
       "2021-10-15   -0.000229\n",
       "2021-10-22   -0.047930\n",
       "Name: weekly_return, Length: 819, dtype: float64"
      ]
     },
     "execution_count": 33,
     "metadata": {},
     "output_type": "execute_result"
    }
   ],
   "source": [
    "stock_return=stock_new.groupby('time')['weekly_return'].sum()\n",
    "stock_return.index=stock_return.index.astype('datetime64[ns]')\n",
    "stock_return"
   ]
  },
  {
   "cell_type": "code",
   "execution_count": 38,
   "id": "5222e148",
   "metadata": {},
   "outputs": [
    {
     "data": {
      "text/plain": [
       "mean   -0.034993\n",
       "std     0.050355\n",
       "Name: weekly_return, dtype: float64"
      ]
     },
     "execution_count": 38,
     "metadata": {},
     "output_type": "execute_result"
    }
   ],
   "source": [
    "stock_return.describe()[1:3]"
   ]
  },
  {
   "cell_type": "code",
   "execution_count": null,
   "id": "1b35e592",
   "metadata": {},
   "outputs": [],
   "source": []
  }
 ],
 "metadata": {
  "kernelspec": {
   "display_name": "Python 3 (ipykernel)",
   "language": "python",
   "name": "python3"
  },
  "language_info": {
   "codemirror_mode": {
    "name": "ipython",
    "version": 3
   },
   "file_extension": ".py",
   "mimetype": "text/x-python",
   "name": "python",
   "nbconvert_exporter": "python",
   "pygments_lexer": "ipython3",
   "version": "3.8.10"
  }
 },
 "nbformat": 4,
 "nbformat_minor": 5
}
