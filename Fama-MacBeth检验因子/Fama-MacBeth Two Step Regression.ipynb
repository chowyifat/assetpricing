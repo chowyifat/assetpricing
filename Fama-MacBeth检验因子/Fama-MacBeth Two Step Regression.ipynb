{
 "cells": [
  {
   "cell_type": "code",
   "execution_count": 48,
   "metadata": {},
   "outputs": [],
   "source": [
    "import pandas as pd\n",
    "import statsmodels.api as sm\n",
    "import numpy as np\n",
    "from scipy import stats\n",
    "import matplotlib.pyplot as plt"
   ]
  },
  {
   "cell_type": "code",
   "execution_count": 121,
   "metadata": {},
   "outputs": [
    {
     "data": {
      "text/html": [
       "<div>\n",
       "<style scoped>\n",
       "    .dataframe tbody tr th:only-of-type {\n",
       "        vertical-align: middle;\n",
       "    }\n",
       "\n",
       "    .dataframe tbody tr th {\n",
       "        vertical-align: top;\n",
       "    }\n",
       "\n",
       "    .dataframe thead th {\n",
       "        text-align: right;\n",
       "    }\n",
       "</style>\n",
       "<table border=\"1\" class=\"dataframe\">\n",
       "  <thead>\n",
       "    <tr style=\"text-align: right;\">\n",
       "      <th></th>\n",
       "      <th>Time</th>\n",
       "      <th>Mkt-RF</th>\n",
       "      <th>SMB</th>\n",
       "      <th>HML</th>\n",
       "      <th>SMALL LoBM</th>\n",
       "      <th>ME1 BM2</th>\n",
       "      <th>ME1 BM3</th>\n",
       "      <th>ME1 BM4</th>\n",
       "      <th>SMALL HiBM</th>\n",
       "      <th>ME2 BM1</th>\n",
       "      <th>...</th>\n",
       "      <th>ME4 BM1</th>\n",
       "      <th>ME4 BM2</th>\n",
       "      <th>ME4 BM3</th>\n",
       "      <th>ME4 BM4</th>\n",
       "      <th>ME4 BM5</th>\n",
       "      <th>BIG LoBM</th>\n",
       "      <th>ME5 BM2</th>\n",
       "      <th>ME5 BM3</th>\n",
       "      <th>ME5 BM4</th>\n",
       "      <th>BIG HiBM</th>\n",
       "    </tr>\n",
       "  </thead>\n",
       "  <tbody>\n",
       "    <tr>\n",
       "      <th>0</th>\n",
       "      <td>199001</td>\n",
       "      <td>-7.85</td>\n",
       "      <td>-1.30</td>\n",
       "      <td>0.81</td>\n",
       "      <td>-8.2806</td>\n",
       "      <td>-7.5898</td>\n",
       "      <td>-4.6359</td>\n",
       "      <td>-6.9495</td>\n",
       "      <td>-6.0635</td>\n",
       "      <td>-9.6130</td>\n",
       "      <td>...</td>\n",
       "      <td>-6.9905</td>\n",
       "      <td>-5.8085</td>\n",
       "      <td>-7.7701</td>\n",
       "      <td>-9.0236</td>\n",
       "      <td>-9.9589</td>\n",
       "      <td>-7.6055</td>\n",
       "      <td>-5.7797</td>\n",
       "      <td>-7.0677</td>\n",
       "      <td>-7.2541</td>\n",
       "      <td>-5.7852</td>\n",
       "    </tr>\n",
       "    <tr>\n",
       "      <th>1</th>\n",
       "      <td>199002</td>\n",
       "      <td>1.11</td>\n",
       "      <td>1.02</td>\n",
       "      <td>0.63</td>\n",
       "      <td>2.0056</td>\n",
       "      <td>2.0672</td>\n",
       "      <td>1.1292</td>\n",
       "      <td>3.4667</td>\n",
       "      <td>1.5431</td>\n",
       "      <td>3.4469</td>\n",
       "      <td>...</td>\n",
       "      <td>1.5972</td>\n",
       "      <td>1.4677</td>\n",
       "      <td>1.5451</td>\n",
       "      <td>1.5279</td>\n",
       "      <td>3.5218</td>\n",
       "      <td>-0.1106</td>\n",
       "      <td>1.8414</td>\n",
       "      <td>2.4739</td>\n",
       "      <td>1.3788</td>\n",
       "      <td>2.0042</td>\n",
       "    </tr>\n",
       "    <tr>\n",
       "      <th>2</th>\n",
       "      <td>199003</td>\n",
       "      <td>1.83</td>\n",
       "      <td>1.52</td>\n",
       "      <td>-2.91</td>\n",
       "      <td>4.4160</td>\n",
       "      <td>2.7600</td>\n",
       "      <td>2.2757</td>\n",
       "      <td>3.7239</td>\n",
       "      <td>1.4118</td>\n",
       "      <td>4.9281</td>\n",
       "      <td>...</td>\n",
       "      <td>3.8881</td>\n",
       "      <td>3.8489</td>\n",
       "      <td>1.8306</td>\n",
       "      <td>1.9770</td>\n",
       "      <td>-0.1681</td>\n",
       "      <td>3.9453</td>\n",
       "      <td>3.8505</td>\n",
       "      <td>0.1720</td>\n",
       "      <td>0.6526</td>\n",
       "      <td>1.0406</td>\n",
       "    </tr>\n",
       "    <tr>\n",
       "      <th>3</th>\n",
       "      <td>199004</td>\n",
       "      <td>-3.36</td>\n",
       "      <td>-0.51</td>\n",
       "      <td>-2.52</td>\n",
       "      <td>-2.5548</td>\n",
       "      <td>-2.3595</td>\n",
       "      <td>-1.7714</td>\n",
       "      <td>-2.4815</td>\n",
       "      <td>-3.5279</td>\n",
       "      <td>-4.0709</td>\n",
       "      <td>...</td>\n",
       "      <td>-2.8886</td>\n",
       "      <td>-4.1178</td>\n",
       "      <td>-6.2997</td>\n",
       "      <td>-5.2026</td>\n",
       "      <td>-5.9564</td>\n",
       "      <td>0.4673</td>\n",
       "      <td>-1.3318</td>\n",
       "      <td>-3.8571</td>\n",
       "      <td>-4.1127</td>\n",
       "      <td>-4.2175</td>\n",
       "    </tr>\n",
       "    <tr>\n",
       "      <th>4</th>\n",
       "      <td>199005</td>\n",
       "      <td>8.42</td>\n",
       "      <td>-2.54</td>\n",
       "      <td>-3.75</td>\n",
       "      <td>8.1103</td>\n",
       "      <td>6.2534</td>\n",
       "      <td>6.0564</td>\n",
       "      <td>4.2900</td>\n",
       "      <td>3.4223</td>\n",
       "      <td>10.7061</td>\n",
       "      <td>...</td>\n",
       "      <td>10.8332</td>\n",
       "      <td>8.5609</td>\n",
       "      <td>10.3263</td>\n",
       "      <td>7.1977</td>\n",
       "      <td>8.6740</td>\n",
       "      <td>11.5903</td>\n",
       "      <td>10.9442</td>\n",
       "      <td>7.5458</td>\n",
       "      <td>6.3937</td>\n",
       "      <td>7.8755</td>\n",
       "    </tr>\n",
       "  </tbody>\n",
       "</table>\n",
       "<p>5 rows × 29 columns</p>\n",
       "</div>"
      ],
      "text/plain": [
       "     Time  Mkt-RF   SMB   HML  SMALL LoBM  ME1 BM2  ME1 BM3  ME1 BM4  \\\n",
       "0  199001   -7.85 -1.30  0.81     -8.2806  -7.5898  -4.6359  -6.9495   \n",
       "1  199002    1.11  1.02  0.63      2.0056   2.0672   1.1292   3.4667   \n",
       "2  199003    1.83  1.52 -2.91      4.4160   2.7600   2.2757   3.7239   \n",
       "3  199004   -3.36 -0.51 -2.52     -2.5548  -2.3595  -1.7714  -2.4815   \n",
       "4  199005    8.42 -2.54 -3.75      8.1103   6.2534   6.0564   4.2900   \n",
       "\n",
       "   SMALL HiBM  ME2 BM1  ...  ME4 BM1  ME4 BM2  ME4 BM3  ME4 BM4  ME4 BM5  \\\n",
       "0     -6.0635  -9.6130  ...  -6.9905  -5.8085  -7.7701  -9.0236  -9.9589   \n",
       "1      1.5431   3.4469  ...   1.5972   1.4677   1.5451   1.5279   3.5218   \n",
       "2      1.4118   4.9281  ...   3.8881   3.8489   1.8306   1.9770  -0.1681   \n",
       "3     -3.5279  -4.0709  ...  -2.8886  -4.1178  -6.2997  -5.2026  -5.9564   \n",
       "4      3.4223  10.7061  ...  10.8332   8.5609  10.3263   7.1977   8.6740   \n",
       "\n",
       "   BIG LoBM  ME5 BM2  ME5 BM3  ME5 BM4  BIG HiBM  \n",
       "0   -7.6055  -5.7797  -7.0677  -7.2541   -5.7852  \n",
       "1   -0.1106   1.8414   2.4739   1.3788    2.0042  \n",
       "2    3.9453   3.8505   0.1720   0.6526    1.0406  \n",
       "3    0.4673  -1.3318  -3.8571  -4.1127   -4.2175  \n",
       "4   11.5903  10.9442   7.5458   6.3937    7.8755  \n",
       "\n",
       "[5 rows x 29 columns]"
      ]
     },
     "execution_count": 121,
     "metadata": {},
     "output_type": "execute_result"
    }
   ],
   "source": [
    "df=pd.read_csv('Fama_Macbeth.csv')\n",
    "df.drop(columns='RF',inplace=True)\n",
    "df.head()"
   ]
  },
  {
   "cell_type": "code",
   "execution_count": 154,
   "metadata": {},
   "outputs": [],
   "source": [
    "data=df.melt(id_vars=['Time','Mkt-RF','SMB','HML'],var_name='Portfolio',value_name='Ri')\n",
    "data.sort_values(['Portfolio','Time'],inplace=True)\n",
    "data.reset_index(inplace=True,drop=True)"
   ]
  },
  {
   "cell_type": "code",
   "execution_count": 155,
   "metadata": {},
   "outputs": [
    {
     "data": {
      "text/html": [
       "<div>\n",
       "<style scoped>\n",
       "    .dataframe tbody tr th:only-of-type {\n",
       "        vertical-align: middle;\n",
       "    }\n",
       "\n",
       "    .dataframe tbody tr th {\n",
       "        vertical-align: top;\n",
       "    }\n",
       "\n",
       "    .dataframe thead th {\n",
       "        text-align: right;\n",
       "    }\n",
       "</style>\n",
       "<table border=\"1\" class=\"dataframe\">\n",
       "  <thead>\n",
       "    <tr style=\"text-align: right;\">\n",
       "      <th></th>\n",
       "      <th>Time</th>\n",
       "      <th>Mkt-RF</th>\n",
       "      <th>SMB</th>\n",
       "      <th>HML</th>\n",
       "      <th>Portfolio</th>\n",
       "      <th>Ri</th>\n",
       "    </tr>\n",
       "  </thead>\n",
       "  <tbody>\n",
       "    <tr>\n",
       "      <th>0</th>\n",
       "      <td>199001</td>\n",
       "      <td>-7.85</td>\n",
       "      <td>-1.30</td>\n",
       "      <td>0.81</td>\n",
       "      <td>BIG HiBM</td>\n",
       "      <td>-5.7852</td>\n",
       "    </tr>\n",
       "    <tr>\n",
       "      <th>1</th>\n",
       "      <td>199002</td>\n",
       "      <td>1.11</td>\n",
       "      <td>1.02</td>\n",
       "      <td>0.63</td>\n",
       "      <td>BIG HiBM</td>\n",
       "      <td>2.0042</td>\n",
       "    </tr>\n",
       "    <tr>\n",
       "      <th>2</th>\n",
       "      <td>199003</td>\n",
       "      <td>1.83</td>\n",
       "      <td>1.52</td>\n",
       "      <td>-2.91</td>\n",
       "      <td>BIG HiBM</td>\n",
       "      <td>1.0406</td>\n",
       "    </tr>\n",
       "    <tr>\n",
       "      <th>3</th>\n",
       "      <td>199004</td>\n",
       "      <td>-3.36</td>\n",
       "      <td>-0.51</td>\n",
       "      <td>-2.52</td>\n",
       "      <td>BIG HiBM</td>\n",
       "      <td>-4.2175</td>\n",
       "    </tr>\n",
       "    <tr>\n",
       "      <th>4</th>\n",
       "      <td>199005</td>\n",
       "      <td>8.42</td>\n",
       "      <td>-2.54</td>\n",
       "      <td>-3.75</td>\n",
       "      <td>BIG HiBM</td>\n",
       "      <td>7.8755</td>\n",
       "    </tr>\n",
       "  </tbody>\n",
       "</table>\n",
       "</div>"
      ],
      "text/plain": [
       "     Time  Mkt-RF   SMB   HML Portfolio      Ri\n",
       "0  199001   -7.85 -1.30  0.81  BIG HiBM -5.7852\n",
       "1  199002    1.11  1.02  0.63  BIG HiBM  2.0042\n",
       "2  199003    1.83  1.52 -2.91  BIG HiBM  1.0406\n",
       "3  199004   -3.36 -0.51 -2.52  BIG HiBM -4.2175\n",
       "4  199005    8.42 -2.54 -3.75  BIG HiBM  7.8755"
      ]
     },
     "execution_count": 155,
     "metadata": {},
     "output_type": "execute_result"
    }
   ],
   "source": [
    "data.head()"
   ]
  },
  {
   "cell_type": "code",
   "execution_count": 156,
   "metadata": {},
   "outputs": [],
   "source": [
    "all_betas=[]\n",
    "    \n",
    "# rolling 5期\n",
    "for i,group in data.groupby('Portfolio'):\n",
    "    beta_list=[]\n",
    "    rolling_list=[]\n",
    "    for rolling in group.rolling(5):      \n",
    "        rolling_list.append(rolling)\n",
    "    rolling_list=rolling_list[4:]\n",
    "    for rolling in rolling_list:\n",
    "        y=rolling['Ri'].to_numpy()\n",
    "        x=rolling[['Mkt-RF','SMB','HML']].to_numpy()\n",
    "        model=sm.OLS(y,x).fit()\n",
    "        beta_list.append(model.params[0])\n",
    "    all_betas.append(beta_list)"
   ]
  },
  {
   "cell_type": "code",
   "execution_count": 157,
   "metadata": {},
   "outputs": [],
   "source": [
    "all_betas=np.array(all_betas)\n",
    "all_betas=all_betas.transpose()"
   ]
  },
  {
   "cell_type": "code",
   "execution_count": 158,
   "metadata": {},
   "outputs": [
    {
     "data": {
      "text/plain": [
       "array([2.52962045, 3.64088099, 2.75504378, 2.87609408, 2.64068115,\n",
       "       2.99171576, 3.91270035, 3.84921741, 3.25053568, 3.51168736,\n",
       "       2.48698891, 2.83694117, 3.45786479, 3.18427107, 3.39873968,\n",
       "       3.09047785, 2.98110575, 3.01666284, 2.38274904, 2.60987331,\n",
       "       3.64344746, 2.8243261 , 3.1181103 , 2.37647644, 1.77398106])"
      ]
     },
     "execution_count": 158,
     "metadata": {},
     "output_type": "execute_result"
    }
   ],
   "source": [
    "mean=all_betas.mean(axis=0)\n",
    "std=all_betas.std(axis=0)\n",
    "t_stat=mean/std\n",
    "t_stat"
   ]
  },
  {
   "cell_type": "code",
   "execution_count": 194,
   "metadata": {},
   "outputs": [
    {
     "data": {
      "image/png": "[encoded data removed]",
      "text/plain": [
       "<Figure size 720x432 with 1 Axes>"
      ]
     },
     "metadata": {
      "needs_background": "light"
     },
     "output_type": "display_data"
    }
   ],
   "source": [
    "fig,ax=plt.subplots(figsize=[10,6])\n",
    "ax.bar(data['Portfolio'].unique(),t_stat)\n",
    "plt.title(fr'TS Regression t-test of $\\beta$')\n",
    "plt.xticks(rotation=90)\n",
    "plt.show()"
   ]
  },
  {
   "cell_type": "code",
   "execution_count": 160,
   "metadata": {},
   "outputs": [],
   "source": [
    "time=data[data['Time']>=199005]['Time'].unique().reshape(-1,1)\n",
    "all_betas=np.concatenate([time,all_betas],axis=1)"
   ]
  },
  {
   "cell_type": "code",
   "execution_count": 129,
   "metadata": {},
   "outputs": [],
   "source": [
    "portfolio=data.Portfolio.unique()\n",
    "columns=np.insert(portfolio,0,'Time',axis=0)\n",
    "all_betas=pd.DataFrame(all_betas,columns=columns)\n",
    "all_betas=all_betas.melt(id_vars='Time',var_name='Portfolio',value_name='Beta')"
   ]
  },
  {
   "cell_type": "code",
   "execution_count": 130,
   "metadata": {},
   "outputs": [
    {
     "data": {
      "text/html": [
       "<div>\n",
       "<style scoped>\n",
       "    .dataframe tbody tr th:only-of-type {\n",
       "        vertical-align: middle;\n",
       "    }\n",
       "\n",
       "    .dataframe tbody tr th {\n",
       "        vertical-align: top;\n",
       "    }\n",
       "\n",
       "    .dataframe thead th {\n",
       "        text-align: right;\n",
       "    }\n",
       "</style>\n",
       "<table border=\"1\" class=\"dataframe\">\n",
       "  <thead>\n",
       "    <tr style=\"text-align: right;\">\n",
       "      <th></th>\n",
       "      <th>Time</th>\n",
       "      <th>Portfolio</th>\n",
       "      <th>Beta</th>\n",
       "    </tr>\n",
       "  </thead>\n",
       "  <tbody>\n",
       "    <tr>\n",
       "      <th>0</th>\n",
       "      <td>199005.0</td>\n",
       "      <td>BIG HiBM</td>\n",
       "      <td>0.926229</td>\n",
       "    </tr>\n",
       "    <tr>\n",
       "      <th>1</th>\n",
       "      <td>199006.0</td>\n",
       "      <td>BIG HiBM</td>\n",
       "      <td>1.068474</td>\n",
       "    </tr>\n",
       "    <tr>\n",
       "      <th>2</th>\n",
       "      <td>199007.0</td>\n",
       "      <td>BIG HiBM</td>\n",
       "      <td>1.010862</td>\n",
       "    </tr>\n",
       "    <tr>\n",
       "      <th>3</th>\n",
       "      <td>199008.0</td>\n",
       "      <td>BIG HiBM</td>\n",
       "      <td>1.005232</td>\n",
       "    </tr>\n",
       "    <tr>\n",
       "      <th>4</th>\n",
       "      <td>199009.0</td>\n",
       "      <td>BIG HiBM</td>\n",
       "      <td>0.938874</td>\n",
       "    </tr>\n",
       "    <tr>\n",
       "      <th>...</th>\n",
       "      <td>...</td>\n",
       "      <td>...</td>\n",
       "      <td>...</td>\n",
       "    </tr>\n",
       "    <tr>\n",
       "      <th>8320</th>\n",
       "      <td>201709.0</td>\n",
       "      <td>SMALL LoBM</td>\n",
       "      <td>0.717563</td>\n",
       "    </tr>\n",
       "    <tr>\n",
       "      <th>8321</th>\n",
       "      <td>201710.0</td>\n",
       "      <td>SMALL LoBM</td>\n",
       "      <td>0.961428</td>\n",
       "    </tr>\n",
       "    <tr>\n",
       "      <th>8322</th>\n",
       "      <td>201711.0</td>\n",
       "      <td>SMALL LoBM</td>\n",
       "      <td>0.904070</td>\n",
       "    </tr>\n",
       "    <tr>\n",
       "      <th>8323</th>\n",
       "      <td>201712.0</td>\n",
       "      <td>SMALL LoBM</td>\n",
       "      <td>0.880867</td>\n",
       "    </tr>\n",
       "    <tr>\n",
       "      <th>8324</th>\n",
       "      <td>201801.0</td>\n",
       "      <td>SMALL LoBM</td>\n",
       "      <td>1.067290</td>\n",
       "    </tr>\n",
       "  </tbody>\n",
       "</table>\n",
       "<p>8325 rows × 3 columns</p>\n",
       "</div>"
      ],
      "text/plain": [
       "          Time   Portfolio      Beta\n",
       "0     199005.0    BIG HiBM  0.926229\n",
       "1     199006.0    BIG HiBM  1.068474\n",
       "2     199007.0    BIG HiBM  1.010862\n",
       "3     199008.0    BIG HiBM  1.005232\n",
       "4     199009.0    BIG HiBM  0.938874\n",
       "...        ...         ...       ...\n",
       "8320  201709.0  SMALL LoBM  0.717563\n",
       "8321  201710.0  SMALL LoBM  0.961428\n",
       "8322  201711.0  SMALL LoBM  0.904070\n",
       "8323  201712.0  SMALL LoBM  0.880867\n",
       "8324  201801.0  SMALL LoBM  1.067290\n",
       "\n",
       "[8325 rows x 3 columns]"
      ]
     },
     "execution_count": 130,
     "metadata": {},
     "output_type": "execute_result"
    }
   ],
   "source": [
    "all_betas"
   ]
  },
  {
   "cell_type": "code",
   "execution_count": 131,
   "metadata": {},
   "outputs": [],
   "source": [
    "value_vars=df.columns[4:]\n",
    "data=df.melt(id_vars='Time',value_vars=value_vars,var_name='Portfolio',value_name='Ri').sort_values('Time')\n",
    "data.reset_index(inplace=True,drop=True)"
   ]
  },
  {
   "cell_type": "code",
   "execution_count": 132,
   "metadata": {},
   "outputs": [],
   "source": [
    "new_data=pd.merge(data,all_betas,on=['Time','Portfolio'])\n",
    "new_data.sort_values(['Time','Portfolio'],inplace=True)\n",
    "new_data.reset_index(inplace=True,drop=True)"
   ]
  },
  {
   "cell_type": "code",
   "execution_count": 133,
   "metadata": {},
   "outputs": [
    {
     "data": {
      "text/html": [
       "<div>\n",
       "<style scoped>\n",
       "    .dataframe tbody tr th:only-of-type {\n",
       "        vertical-align: middle;\n",
       "    }\n",
       "\n",
       "    .dataframe tbody tr th {\n",
       "        vertical-align: top;\n",
       "    }\n",
       "\n",
       "    .dataframe thead th {\n",
       "        text-align: right;\n",
       "    }\n",
       "</style>\n",
       "<table border=\"1\" class=\"dataframe\">\n",
       "  <thead>\n",
       "    <tr style=\"text-align: right;\">\n",
       "      <th></th>\n",
       "      <th>Time</th>\n",
       "      <th>Portfolio</th>\n",
       "      <th>Ri</th>\n",
       "      <th>Beta</th>\n",
       "    </tr>\n",
       "  </thead>\n",
       "  <tbody>\n",
       "    <tr>\n",
       "      <th>0</th>\n",
       "      <td>199005</td>\n",
       "      <td>BIG HiBM</td>\n",
       "      <td>7.8755</td>\n",
       "      <td>0.926229</td>\n",
       "    </tr>\n",
       "    <tr>\n",
       "      <th>1</th>\n",
       "      <td>199005</td>\n",
       "      <td>BIG LoBM</td>\n",
       "      <td>11.5903</td>\n",
       "      <td>0.840666</td>\n",
       "    </tr>\n",
       "    <tr>\n",
       "      <th>2</th>\n",
       "      <td>199005</td>\n",
       "      <td>ME1 BM2</td>\n",
       "      <td>6.2534</td>\n",
       "      <td>0.840934</td>\n",
       "    </tr>\n",
       "    <tr>\n",
       "      <th>3</th>\n",
       "      <td>199005</td>\n",
       "      <td>ME1 BM3</td>\n",
       "      <td>6.0564</td>\n",
       "      <td>0.610168</td>\n",
       "    </tr>\n",
       "    <tr>\n",
       "      <th>4</th>\n",
       "      <td>199005</td>\n",
       "      <td>ME1 BM4</td>\n",
       "      <td>4.2900</td>\n",
       "      <td>0.736835</td>\n",
       "    </tr>\n",
       "  </tbody>\n",
       "</table>\n",
       "</div>"
      ],
      "text/plain": [
       "     Time Portfolio       Ri      Beta\n",
       "0  199005  BIG HiBM   7.8755  0.926229\n",
       "1  199005  BIG LoBM  11.5903  0.840666\n",
       "2  199005   ME1 BM2   6.2534  0.840934\n",
       "3  199005   ME1 BM3   6.0564  0.610168\n",
       "4  199005   ME1 BM4   4.2900  0.736835"
      ]
     },
     "execution_count": 133,
     "metadata": {},
     "output_type": "execute_result"
    }
   ],
   "source": [
    "new_data.head()"
   ]
  },
  {
   "cell_type": "code",
   "execution_count": 134,
   "metadata": {},
   "outputs": [],
   "source": [
    "factor_list=[]\n",
    "for i,group in new_data.groupby('Time'):\n",
    "    y=group['Ri'].to_numpy()\n",
    "    x=group['Beta'].to_numpy()\n",
    "    model=sm.OLS(y,x).fit()\n",
    "    factor_list.append(model.params[0])"
   ]
  },
  {
   "cell_type": "code",
   "execution_count": 190,
   "metadata": {},
   "outputs": [
    {
     "data": {
      "image/png": "[encoded data removed]",
      "text/plain": [
       "<Figure size 720x432 with 1 Axes>"
      ]
     },
     "metadata": {
      "needs_background": "light"
     },
     "output_type": "display_data"
    }
   ],
   "source": [
    "time=time.reshape(-1)\n",
    "fig,ax=plt.subplots(figsize=[10,6])\n",
    "ax.scatter(time,factor_list)\n",
    "plt.title(fr'different factor premium in different time')\n",
    "plt.xticks(np.arange(199005,201812,200),rotation=45)\n",
    "plt.show()"
   ]
  },
  {
   "cell_type": "code",
   "execution_count": 31,
   "metadata": {},
   "outputs": [
    {
     "name": "stdout",
     "output_type": "stream",
     "text": [
      "0.2068249350985934\n"
     ]
    }
   ],
   "source": [
    "mean=np.mean(factor_list)\n",
    "std=np.std(factor_list)\n",
    "t_stat=(mean-0)/std\n",
    "print(t_stat)"
   ]
  }
 ],
 "metadata": {
  "interpreter": {
   "hash": "a6dc62afd8b03c17538a9dfce2fcb18f62cec380cc7b77050462a64b7e4e4814"
  },
  "kernelspec": {
   "display_name": "Python 3.8.10 64-bit (system)",
   "language": "python",
   "name": "python3"
  },
  "language_info": {
   "codemirror_mode": {
    "name": "ipython",
    "version": 3
   },
   "file_extension": ".py",
   "mimetype": "text/x-python",
   "name": "python",
   "nbconvert_exporter": "python",
   "pygments_lexer": "ipython3",
   "version": "3.8.10"
  },
  "orig_nbformat": 4
 },
 "nbformat": 4,
 "nbformat_minor": 2
}
